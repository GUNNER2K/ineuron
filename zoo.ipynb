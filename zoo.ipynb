{
 "cells": [
  {
   "cell_type": "code",
   "execution_count": 1,
   "id": "5b631a40",
   "metadata": {},
   "outputs": [
    {
     "name": "stdout",
     "output_type": "stream",
     "text": [
      "Collecting import-ipynb\n",
      "  Downloading import_ipynb-0.1.4-py3-none-any.whl (4.1 kB)\n",
      "Requirement already satisfied: nbformat in c:\\users\\satya\\anaconda3\\lib\\site-packages (from import-ipynb) (5.1.3)\n",
      "Requirement already satisfied: IPython in c:\\users\\satya\\anaconda3\\lib\\site-packages (from import-ipynb) (8.2.0)\n",
      "Requirement already satisfied: matplotlib-inline in c:\\users\\satya\\anaconda3\\lib\\site-packages (from IPython->import-ipynb) (0.1.2)\n",
      "Requirement already satisfied: jedi>=0.16 in c:\\users\\satya\\anaconda3\\lib\\site-packages (from IPython->import-ipynb) (0.18.1)\n",
      "Requirement already satisfied: setuptools>=18.5 in c:\\users\\satya\\anaconda3\\lib\\site-packages (from IPython->import-ipynb) (61.2.0)\n",
      "Requirement already satisfied: stack-data in c:\\users\\satya\\anaconda3\\lib\\site-packages (from IPython->import-ipynb) (0.2.0)\n",
      "Requirement already satisfied: backcall in c:\\users\\satya\\anaconda3\\lib\\site-packages (from IPython->import-ipynb) (0.2.0)\n",
      "Requirement already satisfied: prompt-toolkit!=3.0.0,!=3.0.1,<3.1.0,>=2.0.0 in c:\\users\\satya\\anaconda3\\lib\\site-packages (from IPython->import-ipynb) (3.0.20)\n",
      "Requirement already satisfied: pickleshare in c:\\users\\satya\\anaconda3\\lib\\site-packages (from IPython->import-ipynb) (0.7.5)\n",
      "Requirement already satisfied: colorama in c:\\users\\satya\\anaconda3\\lib\\site-packages (from IPython->import-ipynb) (0.4.4)\n",
      "Requirement already satisfied: decorator in c:\\users\\satya\\anaconda3\\lib\\site-packages (from IPython->import-ipynb) (5.1.1)\n",
      "Requirement already satisfied: pygments>=2.4.0 in c:\\users\\satya\\anaconda3\\lib\\site-packages (from IPython->import-ipynb) (2.11.2)\n",
      "Requirement already satisfied: traitlets>=5 in c:\\users\\satya\\anaconda3\\lib\\site-packages (from IPython->import-ipynb) (5.1.1)\n",
      "Requirement already satisfied: parso<0.9.0,>=0.8.0 in c:\\users\\satya\\anaconda3\\lib\\site-packages (from jedi>=0.16->IPython->import-ipynb) (0.8.3)\n",
      "Requirement already satisfied: wcwidth in c:\\users\\satya\\anaconda3\\lib\\site-packages (from prompt-toolkit!=3.0.0,!=3.0.1,<3.1.0,>=2.0.0->IPython->import-ipynb) (0.2.5)\n",
      "Requirement already satisfied: jupyter-core in c:\\users\\satya\\anaconda3\\lib\\site-packages (from nbformat->import-ipynb) (4.9.2)\n",
      "Requirement already satisfied: ipython-genutils in c:\\users\\satya\\anaconda3\\lib\\site-packages (from nbformat->import-ipynb) (0.2.0)\n",
      "Requirement already satisfied: jsonschema!=2.5.0,>=2.4 in c:\\users\\satya\\anaconda3\\lib\\site-packages (from nbformat->import-ipynb) (3.2.0)\n",
      "Requirement already satisfied: pyrsistent>=0.14.0 in c:\\users\\satya\\anaconda3\\lib\\site-packages (from jsonschema!=2.5.0,>=2.4->nbformat->import-ipynb) (0.18.0)\n",
      "Requirement already satisfied: attrs>=17.4.0 in c:\\users\\satya\\anaconda3\\lib\\site-packages (from jsonschema!=2.5.0,>=2.4->nbformat->import-ipynb) (21.4.0)\n",
      "Requirement already satisfied: six>=1.11.0 in c:\\users\\satya\\anaconda3\\lib\\site-packages (from jsonschema!=2.5.0,>=2.4->nbformat->import-ipynb) (1.16.0)\n",
      "Requirement already satisfied: pywin32>=1.0 in c:\\users\\satya\\anaconda3\\lib\\site-packages (from jupyter-core->nbformat->import-ipynb) (302)\n",
      "Requirement already satisfied: executing in c:\\users\\satya\\anaconda3\\lib\\site-packages (from stack-data->IPython->import-ipynb) (0.8.3)\n",
      "Requirement already satisfied: asttokens in c:\\users\\satya\\anaconda3\\lib\\site-packages (from stack-data->IPython->import-ipynb) (2.0.5)\n",
      "Requirement already satisfied: pure-eval in c:\\users\\satya\\anaconda3\\lib\\site-packages (from stack-data->IPython->import-ipynb) (0.2.2)\n",
      "Installing collected packages: import-ipynb\n",
      "Successfully installed import-ipynb-0.1.4\n"
     ]
    }
   ],
   "source": [
    "!pip install import-ipynb"
   ]
  },
  {
   "cell_type": "code",
   "execution_count": 2,
   "id": "e0961634",
   "metadata": {},
   "outputs": [],
   "source": [
    "def hours():\n",
    "    print('open 9-5 daily')"
   ]
  },
  {
   "cell_type": "code",
   "execution_count": null,
   "id": "73ae0655",
   "metadata": {},
   "outputs": [],
   "source": []
  }
 ],
 "metadata": {
  "kernelspec": {
   "display_name": "Python 3 (ipykernel)",
   "language": "python",
   "name": "python3"
  },
  "language_info": {
   "codemirror_mode": {
    "name": "ipython",
    "version": 3
   },
   "file_extension": ".py",
   "mimetype": "text/x-python",
   "name": "python",
   "nbconvert_exporter": "python",
   "pygments_lexer": "ipython3",
   "version": "3.9.7"
  }
 },
 "nbformat": 4,
 "nbformat_minor": 5
}
